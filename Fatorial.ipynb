{
 "cells": [
  {
   "cell_type": "code",
   "execution_count": 2,
   "metadata": {},
   "outputs": [
    {
     "name": "stdout",
     "output_type": "stream",
     "text": [
      " O Fatorial de 5 é: 120\n"
     ]
    }
   ],
   "source": [
    "numero = int(input(\"Digite um número para fazer o Fatorial: \") )\n",
    "resultado=1\n",
    "count=1\n",
    "while count <= numero:\n",
    "    resultado *= count\n",
    "    count += 1\n",
    "\n",
    "print(f' O Fatorial de {numero} é: {resultado}')\n"
   ]
  },
  {
   "cell_type": "code",
   "execution_count": 3,
   "metadata": {},
   "outputs": [
    {
     "name": "stdout",
     "output_type": "stream",
     "text": [
      " O Fatorial de 5 é: 120\n"
     ]
    }
   ],
   "source": [
    "numero = int(input(\"Digite um número para fazer o Fatorial: \") )\n",
    "resultado=1\n",
    "for n in range(1,numero+1):\n",
    "    resultado *= n\n",
    "\n",
    "print(f' O Fatorial de {numero} é: {resultado}')\n"
   ]
  },
  {
   "cell_type": "code",
   "execution_count": 13,
   "metadata": {},
   "outputs": [
    {
     "name": "stdout",
     "output_type": "stream",
     "text": [
      "O fatorial de 8 é:  40320\n"
     ]
    }
   ],
   "source": [
    "import math  \n",
    "    \n",
    "x = int(input(\"Digite um nùmero inteiro: \"))\n",
    "    \n",
    "print (f\"O fatorial de {x} é: \", math.factorial(x))  \n",
    "\n"
   ]
  }
 ],
 "metadata": {
  "kernelspec": {
   "display_name": "Python 3.10.6 64-bit",
   "language": "python",
   "name": "python3"
  },
  "language_info": {
   "codemirror_mode": {
    "name": "ipython",
    "version": 3
   },
   "file_extension": ".py",
   "mimetype": "text/x-python",
   "name": "python",
   "nbconvert_exporter": "python",
   "pygments_lexer": "ipython3",
   "version": "3.10.6"
  },
  "orig_nbformat": 4,
  "vscode": {
   "interpreter": {
    "hash": "6fd8e8e5ea648a0bb2a673153d9712fdb12c9741dba0e5111dfc4a3f6dcbc409"
   }
  }
 },
 "nbformat": 4,
 "nbformat_minor": 2
}
