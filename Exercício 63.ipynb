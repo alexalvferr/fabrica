{
 "cells": [
  {
   "cell_type": "code",
   "execution_count": 12,
   "metadata": {},
   "outputs": [
    {
     "name": "stdout",
     "output_type": "stream",
     "text": [
      "[-98.0, -65.0, -2.0, 51.0, 62.0, 63.0, 63.0, 85.0, 95.0]\n",
      "O menor número é -98.0\n",
      "O maior número é 95.0\n",
      "A soma dos números é 254.0\n"
     ]
    }
   ],
   "source": [
    "from math import inf \n",
    "numeros = []\n",
    "\n",
    "while True:\n",
    "    valor = input(\"Digite um número ou 'p' para parar e exibir os resultados: \")\n",
    "    if valor.upper() == \"P\":\n",
    "        break\n",
    "    numeros.append(float(valor))\n",
    "    numeros.sort()\n",
    "print(numeros)\n",
    "\n",
    "menor_numero = inf\n",
    "for numero in numeros:\n",
    "    if numero < menor_numero:\n",
    "        menor_numero = numero\n",
    "    \n",
    "print(f\"O menor número é {menor_numero}\")\n",
    "\n",
    "maior_numero = -inf\n",
    "for numero in numeros:\n",
    "    if numero > maior_numero:\n",
    "        maior_numero = numero\n",
    "print(f\"O maior número é {maior_numero}\")\n",
    "\n",
    "soma = 0\n",
    "for numero in numeros:\n",
    "    soma += numero\n",
    "print(f\"A soma dos números é {soma}\")"
   ]
  },
  {
   "cell_type": "code",
   "execution_count": null,
   "metadata": {},
   "outputs": [],
   "source": []
  }
 ],
 "metadata": {
  "kernelspec": {
   "display_name": "Python 3.10.6 ('venv': venv)",
   "language": "python",
   "name": "python3"
  },
  "language_info": {
   "codemirror_mode": {
    "name": "ipython",
    "version": 3
   },
   "file_extension": ".py",
   "mimetype": "text/x-python",
   "name": "python",
   "nbconvert_exporter": "python",
   "pygments_lexer": "ipython3",
   "version": "3.10.6"
  },
  "orig_nbformat": 4,
  "vscode": {
   "interpreter": {
    "hash": "3b4dca4608bf4e15c2d2893663b9631466f2c03b399c644b7ba78f78fd2194eb"
   }
  }
 },
 "nbformat": 4,
 "nbformat_minor": 2
}
